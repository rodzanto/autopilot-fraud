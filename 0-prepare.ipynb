{
 "cells": [
  {
   "cell_type": "markdown",
   "metadata": {},
   "source": [
    "## **Preparation steps**\n",
    "\n",
    "### **1. Accesing Amazon SageMaker Studio**\n",
    "\n",
    "*Make sure your account is already onboarded to SageMaker Studio.*\n",
    "\n",
    "* Open the AWS Console for your account.\n",
    "* Look for \"Amazon SageMaker\" and click on it.\n",
    "* Choose \"Amazon SageMaker Studio\" at the top left of the page.\n",
    "\n",
    "![screen2](images/screen0_2.png)\n",
    "\n",
    "*Make sure your Studio profile is in status \"Ready\".*\n",
    "\n",
    "![screen0](images/screen0_0.png)\n",
    "\n",
    "* Choose \"Open Studio\". The Amazon SageMaker Studio loading page displays. When Studio opens you can start using it *(this can take a few mins the first time)*.\n",
    "\n",
    "![screen1](images/screen0_1.png)"
   ]
  },
  {
   "cell_type": "markdown",
   "metadata": {},
   "source": [
    "### **2. Working with Amazon SageMaker Autopilot in Studio**\n",
    "\n",
    "> Note SageMaker Autopilot can be used either from the graphical interface via the SageMaker Studio Launcher, or with code via the SageMaker SDK. In the following steps we will follow the SDK alternative.\n",
    "\n",
    "Now that your SageMaker Studio is open, you will get the notebooks that we will be using and follow the steps on these.\n",
    "\n",
    "* If not open already, create a new Studio Launcher tab by going to \"File\"->\"New Launcher\".\n",
    "\n",
    "![screen3](images/screen0_3.png)\n",
    "\n",
    "* Click on \"Image Terminal\" to open a new terminal tab.\n",
    "* Copy-paste the following command in the terminal and hit enter. This will clone this repository to your Studio local environment.\n",
    "\n",
    "    >**git clone https://github.com/rodzanto/autopilot-fraud**\n",
    "\n",
    "* In the left menu go to the \"File Browser\" (folder icon at the top-left).\n",
    "* Double click the folder called **\"autopilot-fraud\"**, then double-click the notebook **\"1-train.ipynb\"**. The notebook will open on a new tab.\n",
    "* In the select kernel pop-up, select \"Python (Data Science)\".\n",
    "\n",
    "![screen5](images/screen0_5.png)\n",
    "\n",
    "* Now **read** and follow the cells in the notebook one by one.\n",
    "    > If you are new to Jupyter notebooks, you can run the notebook document step-by-step (one cell a time) by pressing \"shift\" + \"enter\". Note:\n",
    "    > * While a cell is running it will show an asterix \"*\" next to it\n",
    "    > * When the cell execution completes it will show the execution number"
   ]
  },
  {
   "cell_type": "code",
   "execution_count": null,
   "metadata": {},
   "outputs": [],
   "source": []
  }
 ],
 "metadata": {
  "instance_type": "ml.t3.medium",
  "kernelspec": {
   "display_name": "Python 3 (Data Science)",
   "language": "python",
   "name": "python3__SAGEMAKER_INTERNAL__arn:aws:sagemaker:eu-west-1:470317259841:image/datascience-1.0"
  },
  "language_info": {
   "codemirror_mode": {
    "name": "ipython",
    "version": 3
   },
   "file_extension": ".py",
   "mimetype": "text/x-python",
   "name": "python",
   "nbconvert_exporter": "python",
   "pygments_lexer": "ipython3",
   "version": "3.7.10"
  }
 },
 "nbformat": 4,
 "nbformat_minor": 4
}
